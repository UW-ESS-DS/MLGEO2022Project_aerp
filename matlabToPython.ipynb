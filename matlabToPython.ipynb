{
 "cells": [
  {
   "cell_type": "code",
   "execution_count": 1,
   "id": "3b2e3d0f-26f5-4693-9973-826c508e40f6",
   "metadata": {},
   "outputs": [],
   "source": [
    "import numpy as np\n",
    "from scipy.io import loadmat  # this is the SciPy module that loads mat-files\n",
    "import matplotlib.pyplot as plt\n",
    "from datetime import datetime, date, time\n",
    "import pandas as pd\n",
    "import os\n",
    "import zipfile\n"
   ]
  },
  {
   "cell_type": "code",
   "execution_count": 5,
   "id": "d00d71ac-cb3a-4b10-bc3e-6c2c273609b4",
   "metadata": {},
   "outputs": [],
   "source": [
    "#with zipfile.ZipFile('stations.zip', 'r') as zip_ref:\n",
    "#   zip_ref.extractall('stations')"
   ]
  },
  {
   "cell_type": "code",
   "execution_count": 30,
   "id": "dd001d09-09ea-4b4b-a705-6ae3e26dd361",
   "metadata": {},
   "outputs": [],
   "source": [
    "files=os.listdir('stations/stations')\n",
    "stations=[]\n",
    "for fileName in files:\n",
    "    try:\n",
    "        file=loadmat('stations/stations/'+fileName);\n",
    "    except:\n",
    "        continue\n",
    "    df = pd.DataFrame(file['dataOneStation'], columns = ['Time', 'xPos', 'yPos', 'zPos', 'xUncertainty', 'yUncertainty', 'zUncertainty'])\n",
    "    df['StationName']=fileName[:-4]\n",
    "    stations.append(df)\n",
    "lonLat=loadmat('positionsLonLat.mat')\n",
    "lonLat=lonLat['lonLat']\n",
    "lonLatKey=loadmat('stationNames.mat')\n",
    "lonLatKey=lonLatKey['names']"
   ]
  }
 ],
 "metadata": {
  "kernelspec": {
   "display_name": "Python 3 (ipykernel)",
   "language": "python",
   "name": "python3"
  },
  "language_info": {
   "codemirror_mode": {
    "name": "ipython",
    "version": 3
   },
   "file_extension": ".py",
   "mimetype": "text/x-python",
   "name": "python",
   "nbconvert_exporter": "python",
   "pygments_lexer": "ipython3",
   "version": "3.8.13"
  }
 },
 "nbformat": 4,
 "nbformat_minor": 5
}
